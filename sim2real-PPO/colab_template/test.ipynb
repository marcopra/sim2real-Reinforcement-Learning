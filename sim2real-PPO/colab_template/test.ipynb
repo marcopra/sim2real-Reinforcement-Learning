{
  "nbformat": 4,
  "nbformat_minor": 0,
  "metadata": {
    "colab": {
      "name": "test.ipynb",
      "provenance": [],
      "collapsed_sections": []
    },
    "kernelspec": {
      "name": "python3",
      "display_name": "Python 3"
    },
    "language_info": {
      "name": "python"
    }
  },
  "cells": [
    {
      "cell_type": "markdown",
      "source": [
        "Install and load all dependencies (first time only) \\\n",
        "NOTE: you may need to restart the runtime afterwards (CTRL+M .)."
      ],
      "metadata": {
        "id": "Siz3Hiq1JUZ1"
      }
    },
    {
      "cell_type": "code",
      "execution_count": null,
      "metadata": {
        "id": "AW6XT0jSJI8e"
      },
      "outputs": [],
      "source": [
        "!apt-get install -y \\\n",
        "    libgl1-mesa-dev \\\n",
        "    libgl1-mesa-glx \\\n",
        "    libglew-dev \\\n",
        "    libosmesa6-dev \\\n",
        "    software-properties-common\n",
        "\n",
        "!apt-get install -y patchelf\n",
        "\n",
        "!pip install gym\n",
        "!pip install free-mujoco-py"
      ]
    },
    {
      "cell_type": "markdown",
      "source": [
        "Set up the custom Hopper environment\n",
        "\n",
        "\n",
        "\n",
        "1.   Upload `classes.zip` to the current session's file storage\n",
        "2.   Un-zip it by running cell below\n"
      ],
      "metadata": {
        "id": "gwIRXGd5K3xJ"
      }
    },
    {
      "cell_type": "code",
      "source": [
        "!unzip classes.zip"
      ],
      "metadata": {
        "id": "T9WsofDVLaCC"
      },
      "execution_count": null,
      "outputs": []
    },
    {
      "cell_type": "markdown",
      "source": [
        "\n",
        "\n",
        "---\n",
        "\n"
      ],
      "metadata": {
        "id": "7pJC_JevLf1f"
      }
    },
    {
      "cell_type": "markdown",
      "source": [
        "\\\n",
        "\n",
        "**Test an RL agent on the OpenAI Gym Hopper environment**\n",
        "\n",
        "\\"
      ],
      "metadata": {
        "id": "W4NsuF6pJPVJ"
      }
    },
    {
      "cell_type": "code",
      "source": [
        "import torch\n",
        "import gym\n",
        "\n",
        "from env.custom_hopper import *\n",
        "from agent import Agent, Policy"
      ],
      "metadata": {
        "id": "uTYmUufrJTNl"
      },
      "execution_count": null,
      "outputs": []
    },
    {
      "cell_type": "code",
      "source": [
        "model = None # Fill in model path\n",
        "device = 'cpu'\n",
        "episodes = 100"
      ],
      "metadata": {
        "id": "55n6YFo1NBNm"
      },
      "execution_count": 2,
      "outputs": []
    },
    {
      "cell_type": "code",
      "source": [
        "env = gym.make('CustomHopper-source-v0')\n",
        "# env = gym.make('CustomHopper-target-v0')\n",
        "\n",
        "print('Action space:', env.action_space)\n",
        "print('State space:', env.observation_space)\n",
        "print('Dynamics parameters:', env.get_parameters())\n",
        "\n",
        "observation_space_dim = env.observation_space.shape[-1]\n",
        "action_space_dim = env.action_space.shape[-1]\n",
        "\n",
        "policy = Policy(observation_space_dim, action_space_dim)\n",
        "policy.load_state_dict(torch.load(model), strict=True)\n",
        "\n",
        "agent = Agent(policy, device=device)"
      ],
      "metadata": {
        "id": "QcCfCGg-Jyc3"
      },
      "execution_count": null,
      "outputs": []
    },
    {
      "cell_type": "code",
      "source": [
        "for episode in range(episodes):\n",
        "  done = False\n",
        "  test_reward = 0\n",
        "  state = env.reset()\n",
        "\n",
        "  while not done:\n",
        "    action, _ = agent.get_action(state, evaluation=True)\n",
        "    \n",
        "    state, reward, done, info = env.step(action.detach().cpu().numpy())\n",
        "\n",
        "    test_reward += reward\n",
        "\n",
        "  print(f\"Episode: {episode} | Return: {test_reward}\")"
      ],
      "metadata": {
        "id": "DT1oXr8HJ05h"
      },
      "execution_count": null,
      "outputs": []
    }
  ]
}